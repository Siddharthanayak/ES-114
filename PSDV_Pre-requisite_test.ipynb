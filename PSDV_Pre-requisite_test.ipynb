{
 "cells": [
  {
   "cell_type": "code",
   "execution_count": 4,
   "id": "1e97db6d",
   "metadata": {},
   "outputs": [],
   "source": [
    "import numpy as np\n",
    "import pandas as pd\n",
    "%matplotlib inline\n",
    "import matplotlib.pyplot as plt\n",
    "from matplotlib_venn import venn2,venn2_circles\n",
    "from collections import Counter"
   ]
  },
  {
   "cell_type": "code",
   "execution_count": 2,
   "id": "8042ec24",
   "metadata": {},
   "outputs": [
    {
     "name": "stdout",
     "output_type": "stream",
     "text": [
      "list of the first 20 natural numbers are: [1, 2, 3, 4, 5, 6, 7, 8, 9, 10, 11, 12, 13, 14, 15, 16, 17, 18, 19, 20]\n",
      "\n",
      "Sum of even numbers are:  110\n",
      "\n",
      "Prod. of odd numbers(numpy method) are: 654729075\n",
      "Prod. of odd numbers(logic) are: 654729075\n",
      "\n",
      "Mean(logic): 10.5\n",
      "Mean(using np): 10.5\n",
      "Median(logic): 10.5\n",
      "Median(using np): 10.5\n",
      "Variance(logic): 33.25\n",
      "Variance(using np): 33.25\n"
     ]
    }
   ],
   "source": [
    "# Q1 \n",
    "l=list(range(1,21))             #range() function is a python inbuilt which gives a sequence of numbers with syntax range(start,stop,step)\n",
    "print(\"list of the first 20 natural numbers are:\",l)\n",
    "print(\"\")\n",
    "\n",
    "\n",
    "arr=np.array(l)\n",
    "def sum_and_length(arr):\n",
    "    summ=sum(arr)\n",
    "    length=len(arr)\n",
    "    return summ,length\n",
    "even_sum=sum(arr[arr%2==0])\n",
    "print(\"Sum of even numbers are: \",even_sum)         #arr%2==0 gives the boolean array arr satisfying the condition specified then arr[arr%2==0] gives only those numbers which satisfies the forementioned condition\n",
    "print(\"\")\n",
    "\n",
    "summ_arr,length_arr=sum_and_length(arr)\n",
    "arr=np.array(l)\n",
    "print(\"Prod. of odd numbers(numpy method) are:\",np.prod(arr[arr%2!=0]))       #arr[arr%2!=0] same syntax as that of the previous question  but it will only take the odd numbers\n",
    "prod=1\n",
    "for i in range(length_arr):\n",
    "    if arr[i]%2 != 0:\n",
    "        prod*=arr[i]\n",
    "print(\"Prod. of odd numbers(logic) are:\",prod)\n",
    "print(\"\")\n",
    "\n",
    "def fun_mean(arr,summ,length):\n",
    "    mean=summ/length\n",
    "    return mean\n",
    "mean_arr=fun_mean(arr,summ_arr,length_arr)\n",
    "print(\"Mean(logic):\", mean_arr)\n",
    "print(\"Mean(using np):\", np.mean(arr))\n",
    "\n",
    "\n",
    "def fun_med(arr,length):\n",
    "    '''\n",
    "    if length%2 == 0:                                        #a lengthier approach to calculate med through logic\n",
    "        med=(arr[int(length/2)-1]+arr[int(length/2)])/2\n",
    "    else:\n",
    "        med=arr[int(length/2)]\n",
    "    '''\n",
    "    med=(arr[int((length-1)/2)]+arr[int(length/2)])/2         #shorter spproach to calculate med\n",
    "    return med\n",
    "med_arr=fun_med(arr,length_arr)\n",
    "print(\"Median(logic):\", med_arr)\n",
    "print(\"Median(using np):\", np.median(arr))\n",
    "\n",
    "def fun_var(arr,mean,length):\n",
    "    var=sum((arr-mean)**2)/length\n",
    "    return var\n",
    "var_arr=fun_var(arr,mean_arr,length_arr)\n",
    "print(\"Variance(logic):\", var_arr)\n",
    "print(\"Variance(using np):\",np.var(arr))"
   ]
  },
  {
   "cell_type": "code",
   "execution_count": 3,
   "id": "ecc7b2b5",
   "metadata": {},
   "outputs": [
    {
     "data": {
      "text/plain": [
       "'\\nMutable data types are objects whose content can be change after creation without the change in the memory address in which the variable is stored which is not the case in immutable DataTypes.\\nEx: Tuples, strings, integers are Immutable datatypes\\nEx: Lists, Dictionaries, Sets are Mutable datatypes\\n '"
      ]
     },
     "execution_count": 3,
     "metadata": {},
     "output_type": "execute_result"
    }
   ],
   "source": [
    "#2\n",
    "'''\n",
    "Mutable data types are objects whose content can be change after creation without the change in the memory address in which the variable is stored which is not the case in immutable DataTypes.\n",
    "Ex: Tuples, strings, integers are Immutable datatypes\n",
    "Ex: Lists, Dictionaries, Sets are Mutable datatypes\n",
    " '''"
   ]
  },
  {
   "cell_type": "code",
   "execution_count": 4,
   "id": "632344c1",
   "metadata": {},
   "outputs": [
    {
     "name": "stdin",
     "output_type": "stream",
     "text": [
      " 8\n"
     ]
    },
    {
     "name": "stdout",
     "output_type": "stream",
     "text": [
      "[0, 1, 1, 2, 3, 5, 8, 13]\n"
     ]
    }
   ],
   "source": [
    "#3\n",
    "l=[0,1]\n",
    "n=int(input())\n",
    "def fibonacci(l,k):\n",
    "    if k==0:\n",
    "        return l\n",
    "    else:\n",
    "        while k!=0:\n",
    "            l+=[l[-1]+l[-2]]\n",
    "            k-=1\n",
    "        return l\n",
    "\n",
    "l=fibonacci(l,n-2)\n",
    "print(l)\n"
   ]
  },
  {
   "cell_type": "code",
   "execution_count": 5,
   "id": "4890e358",
   "metadata": {},
   "outputs": [
    {
     "name": "stdout",
     "output_type": "stream",
     "text": [
      "List with 3rd index replaced by 6: [3, 5, 7, 6, 11, 13]\n",
      "\n",
      "List without 7: [3, 5, 6, 11, 13]\n",
      "\n",
      "Reversed list: [13, 11, 6, 5, 3]\n",
      "\n",
      "Mean(using logic) 7.6\n",
      "Mean(using numpy) 7.6\n",
      "\n",
      "Median(using logic) 6.0\n",
      "Median(using numpy) 6.0\n"
     ]
    }
   ],
   "source": [
    "#4\n",
    "l=[3, 5, 7, 9, 11, 13]\n",
    "l[3]=6\n",
    "print(\"List with 3rd index replaced by 6:\",l)\n",
    "print(\"\")\n",
    "l.remove(7)\n",
    "print(\"List without 7:\",l)\n",
    "print(\"\")\n",
    "l.reverse()\n",
    "print(\"Reversed list:\",l)\n",
    "print(\"\")\n",
    "\n",
    "arr1=np.array(l)\n",
    "summ_arr1,length_arr1=sum_and_length(arr1)\n",
    "\n",
    "mean_arr1=fun_mean(arr1,summ_arr1,length_arr1)\n",
    "print(\"Mean(using logic)\",mean_arr1)\n",
    "print(\"Mean(using numpy)\",np.mean(arr1))\n",
    "print(\"\")\n",
    "med_arr1=fun_med(arr1,length_arr1)\n",
    "print(\"Median(using logic)\",med_arr1)\n",
    "print(\"Median(using numpy)\",np.median(arr1))"
   ]
  },
  {
   "cell_type": "code",
   "execution_count": 9,
   "id": "0894559c",
   "metadata": {},
   "outputs": [
    {
     "name": "stdin",
     "output_type": "stream",
     "text": [
      " 1,6,6,63,2,3,2,6\n"
     ]
    },
    {
     "name": "stdout",
     "output_type": "stream",
     "text": [
      "Mean is: 11.125\n",
      "Smallest and Largest numbers are listed respectively: 1 , 63\n"
     ]
    },
    {
     "data": {
      "image/png": "[encoded data removed]",
      "text/plain": [
       "<Figure size 640x480 with 1 Axes>"
      ]
     },
     "metadata": {},
     "output_type": "display_data"
    }
   ],
   "source": [
    "#5\n",
    "l=input()\n",
    "arr_int=np.array([int(i) for i in l.split(\",\")])\n",
    "summ_arr_int,length_arr_int=sum_and_length(arr_int)\n",
    "mean_arr_int=fun_mean(arr_int,summ_arr_int,length_arr_int)\n",
    "print(\"Mean is:\",mean_arr_int)\n",
    "print(\"Smallest and Largest numbers are listed respectively:\",min(arr_int),\",\",max(arr_int))\n",
    "plt.hist(arr_int)\n",
    "plt.show()\n"
   ]
  },
  {
   "cell_type": "code",
   "execution_count": 32,
   "id": "eda37d5d",
   "metadata": {},
   "outputs": [
    {
     "name": "stdin",
     "output_type": "stream",
     "text": [
      " A man a plan a canal Panama\n"
     ]
    },
    {
     "name": "stdout",
     "output_type": "stream",
     "text": [
      "True\n"
     ]
    }
   ],
   "source": [
    "#6\n",
    "string=input()\n",
    "stripped_str=string.replace(\" \",\"\").lower()\n",
    "lst=list(stripped_str)\n",
    "if lst[::-1]==lst:\n",
    "    print(True)\n",
    "else:\n",
    "    print(False)"
   ]
  },
  {
   "cell_type": "code",
   "execution_count": 6,
   "id": "c63a1e57",
   "metadata": {},
   "outputs": [
    {
     "name": "stdout",
     "output_type": "stream",
     "text": [
      "Average: 55.2\n",
      "S\n",
      "G\n",
      "D\n"
     ]
    },
    {
     "data": {
      "image/png": "[encoded data removed]",
      "text/plain": [
       "<Figure size 640x480 with 1 Axes>"
      ]
     },
     "metadata": {},
     "output_type": "display_data"
    }
   ],
   "source": [
    "#7\n",
    "dic={\"A\":29,\"S\":67,\"G\":81,\"D\":88,\"B\":11}\n",
    "\n",
    "ar=np.array(list(dic.values()))\n",
    "avg=np.average(ar)\n",
    "print(\"Average:\",avg)\n",
    "\n",
    "dic_arr=np.array(list(dic.items()))\n",
    "\n",
    "for i in dic_arr:\n",
    "    if int(i[-1])>avg:\n",
    "        print(i[0])\n",
    "x=list(dic.keys())\n",
    "y=list(dic.values())\n",
    "plt.bar(x,y)\n",
    "plt.show()"
   ]
  },
  {
   "cell_type": "code",
   "execution_count": 12,
   "id": "2bc37860",
   "metadata": {},
   "outputs": [
    {
     "name": "stdin",
     "output_type": "stream",
     "text": [
      " 1\n",
      " 10\n"
     ]
    },
    {
     "name": "stdout",
     "output_type": "stream",
     "text": [
      "[(1, 1), (2, 4), (3, 9), (4, 16), (5, 25), (6, 36), (7, 49), (8, 64), (9, 81), (10, 100)]\n"
     ]
    },
    {
     "data": {
      "image/png": "[encoded data removed]",
      "text/plain": [
       "<Figure size 640x480 with 1 Axes>"
      ]
     },
     "metadata": {},
     "output_type": "display_data"
    }
   ],
   "source": [
    "#8\n",
    "start=int(input())\n",
    "end=int(input())\n",
    "l=[]\n",
    "for i in range(start,end+1):\n",
    "    tup=()\n",
    "    tup+=(i,i**2)\n",
    "    l.append(tup)\n",
    "print(l)\n",
    "\n",
    "x,y=[],[]\n",
    "for i,j in l:\n",
    "    x+=[i]\n",
    "    y+=[j]\n",
    "plt.scatter(x,y)\n",
    "plt.show()"
   ]
  },
  {
   "cell_type": "code",
   "execution_count": 7,
   "id": "e7b2bec9",
   "metadata": {},
   "outputs": [
    {
     "name": "stdout",
     "output_type": "stream",
     "text": [
      "Merged Dictionary: {'a': 10, 'b': 25, 'c': 15}\n"
     ]
    }
   ],
   "source": [
    "#9\n",
    "dic1 = {'a': 10, 'b': 20}\n",
    "dic2 = {'b': 5, 'c': 15}\n",
    "\n",
    "m_dic = dic1.copy()\n",
    "\n",
    "for k, v in dic2.items():\n",
    "    if k in m_dic:\n",
    "        m_dic[k] += v\n",
    "    else:\n",
    "        m_dic[k] = v\n",
    "\n",
    "print(\"Merged Dictionary:\", m_dic)\n"
   ]
  },
  {
   "cell_type": "code",
   "execution_count": 29,
   "id": "ebac8216",
   "metadata": {},
   "outputs": [
    {
     "name": "stdin",
     "output_type": "stream",
     "text": [
      " WedDEWGFAStfsdrqwW\n"
     ]
    },
    {
     "name": "stdout",
     "output_type": "stream",
     "text": [
      "Dictionary: {'a': 1, 'd': 3, 'e': 2, 'f': 2, 'g': 1, 'q': 1, 'r': 1, 's': 2, 't': 1, 'w': 4}\n"
     ]
    },
    {
     "data": {
      "image/png": "[encoded data removed]",
      "text/plain": [
       "<Figure size 640x480 with 1 Axes>"
      ]
     },
     "metadata": {},
     "output_type": "display_data"
    }
   ],
   "source": [
    "#10\n",
    "str1=input()\n",
    "l=sorted(list((str1.lower().replace(\" \",\"\"))))\n",
    "unique_l=sorted(list(set(l)))\n",
    "d={}\n",
    "for i in unique_l:\n",
    "    d.update(dict(zip([i],[l.count(i)])))\n",
    "\n",
    "print(\"Dictionary:\",d)\n",
    "plt.bar(d.keys(),d.values())\n",
    "plt.show()\n"
   ]
  },
  {
   "cell_type": "code",
   "execution_count": 8,
   "id": "c0239041",
   "metadata": {},
   "outputs": [
    {
     "name": "stdout",
     "output_type": "stream",
     "text": [
      "[3, 9, 5, 1, 2, 6]\n",
      "Mean: 4.333333333333333\n",
      "Median: 4.0\n"
     ]
    }
   ],
   "source": [
    "#11\n",
    "l=[3,9,5,1,2,1,2,1,2,6,9,5]\n",
    "i=1\n",
    "while i<len(l):\n",
    "    if l[i] in l[:i]:\n",
    "        l.pop(i)\n",
    "        continue\n",
    "    i+=1\n",
    "print(l)\n",
    "\n",
    "print(\"Mean:\", np.mean(np.array(l)))\n",
    "print(\"Median:\",np.median(np.array(l)))"
   ]
  },
  {
   "cell_type": "code",
   "execution_count": 9,
   "id": "299f90da",
   "metadata": {},
   "outputs": [
    {
     "name": "stdout",
     "output_type": "stream",
     "text": [
      "the longest string(s) are:\n",
      "sdasa\n",
      "ytyty\n",
      "sdasa\n",
      "uhasu\n",
      "\n",
      "Number of strings that start with a vowel are: 2\n",
      "\n"
     ]
    },
    {
     "data": {
      "image/png": "[encoded data removed]",
      "text/plain": [
       "<Figure size 640x480 with 1 Axes>"
      ]
     },
     "metadata": {},
     "output_type": "display_data"
    }
   ],
   "source": [
    "#12\n",
    "l1=[\"sdasa\",\"dfge\",\"hgd\",\"fghq\",\"a\",\"ytyty\",\"sdasa\",\"ghas\",\"s\",\"uhasu\"]\n",
    "l2=[]\n",
    "for i in range(len(l1)):\n",
    "    l2+=[len(l1[i])]\n",
    "\n",
    "index=[0]                                  #this method will give more than one longest string if more than one strings are of max. length as shown in the example without using any of the inbuilt python functions\n",
    "maxx=l2[0]\n",
    "for i in range(1,len(l2)):\n",
    "    if l2[i]>maxx:\n",
    "        index[0]=i\n",
    "        maxx=l2[i]\n",
    "        if len(l2)>1:\n",
    "            index=[index[0]]\n",
    "    elif l2[i]==maxx:\n",
    "        index+=[i]\n",
    "\n",
    "print(\"the longest string(s) are:\")\n",
    "for i in index:\n",
    "    print(l1[i])\n",
    "print(\"\")\n",
    "count=0\n",
    "for i in range(len(l1)):\n",
    "    if l1[i][0] in [\"a\",\"e\",\"i\",\"o\",\"u\"]:\n",
    "        count+=1\n",
    "print(\"Number of strings that start with a vowel are:\", count)\n",
    "print(\"\")\n",
    "\n",
    "plt.hist(l2)\n",
    "plt.show()"
   ]
  },
  {
   "cell_type": "code",
   "execution_count": 10,
   "id": "93dc2fb1",
   "metadata": {},
   "outputs": [
    {
     "data": {
      "text/plain": [
       "[{'name': 'Boc', 'age': 2},\n",
       " {'name': 'Bob', 'age': 22},\n",
       " {'name': 'Alice', 'age': 25}]"
      ]
     },
     "execution_count": 10,
     "metadata": {},
     "output_type": "execute_result"
    }
   ],
   "source": [
    "#13\n",
    "d1 = [{'name': 'Alice', 'age': 25},{'name': 'Bob', 'age': 22},{'name': 'Boc', 'age': 2}]\n",
    "key=\"age\"\n",
    "d1_sorted=sorted(d1,key=lambda x:x[\"age\"])\n",
    "d1_sorted"
   ]
  },
  {
   "cell_type": "code",
   "execution_count": 27,
   "id": "9ddafb34",
   "metadata": {},
   "outputs": [
    {
     "data": {
      "image/png": "[encoded data removed]",
      "text/plain": [
       "<Figure size 640x480 with 1 Axes>"
      ]
     },
     "metadata": {},
     "output_type": "display_data"
    }
   ],
   "source": [
    "#14\n",
    "string=\"better through hi how cures  are u  going through it\"\n",
    "str1=string.split()\n",
    "# 2 methods are there to remove the required strings one is through .remove method via while loop and the other is through sorting first then then removing the required strings. I am applying the 2nd method\n",
    "sorted_str=sorted(str1,key=len,reverse=True)\n",
    "for i in range(len(sorted_str)):\n",
    "    if len(sorted_str[i])<4:\n",
    "        sorted_str=sorted_str[:i]\n",
    "        break\n",
    "sorted_str=sorted(sorted_str)\n",
    "sorted_str\n",
    "sorted_str_lens=[len(word) for word in sorted_str]\n",
    "plt.bar(sorted_str,sorted_str_lens)\n",
    "plt.show()\n"
   ]
  },
  {
   "cell_type": "code",
   "execution_count": 12,
   "id": "69af5a12",
   "metadata": {},
   "outputs": [
    {
     "data": {
      "text/plain": [
       "['enlist', 'inlets']"
      ]
     },
     "execution_count": 12,
     "metadata": {},
     "output_type": "execute_result"
    }
   ],
   "source": [
    "#15\n",
    "words = [\"enlist\", \"google\", \"inlets\", \"banana\"]\n",
    "word = \"listen\"\n",
    "sorted_word=sorted(word)\n",
    "l=[]\n",
    "\n",
    "for i in words:\n",
    "    if sorted(i)==sorted_word:\n",
    "        l+=[i]\n",
    "l"
   ]
  },
  {
   "cell_type": "code",
   "execution_count": 13,
   "id": "e906a484",
   "metadata": {},
   "outputs": [
    {
     "name": "stdout",
     "output_type": "stream",
     "text": [
      "intersection for both the lists are: [1, 3, 4, 7]\n",
      "union of both the lists are: [1, 3, 4, 5, 6, 7, 9, 12]\n",
      "l1_butnotl2: ([9, 6], [12, 5]) l2_butnotl1: ([9, 6], [12, 5])\n",
      "\n"
     ]
    },
    {
     "data": {
      "image/png": "[encoded data removed]",
      "text/plain": [
       "<Figure size 640x480 with 1 Axes>"
      ]
     },
     "metadata": {},
     "output_type": "display_data"
    }
   ],
   "source": [
    "#16\n",
    "l1=[9,4,6,7,3,3,4,7,1]\n",
    "l2=[1,7,4,4,5,12,3]\n",
    "#code for intersection of two lists\n",
    "def intersection(l1,l2):\n",
    "    # common=[val for val in l1 if val in l2]\n",
    "    common=list(set(l1) & set(l2))\n",
    "    return common\n",
    "both=intersection(l1,l2)\n",
    "print(\"intersection for both the lists are:\",both)\n",
    "\n",
    "def union(l1,l2):\n",
    "    union_l=list(set(l1)|set(l2))\n",
    "    return union_l\n",
    "union_l=union(l1,l2)\n",
    "print(\"union of both the lists are:\",union_l)\n",
    "\n",
    "def difference(l1,l2,both):\n",
    "    l1_butnotl2=list(set(l1)-set(both))\n",
    "    l2_butnotl1=list(set(l2)-set(both))\n",
    "    return l1_butnotl2,l2_butnotl1\n",
    "print(\"l1_butnotl2:\",difference(l1,l2,both),\"l2_butnotl1:\",difference(l1,l2,both))\n",
    "\n",
    "print(\"\")\n",
    "#venn diagrams for each\n",
    "v2=venn2(subsets=(len(l1)-len(both),len(l2)-len(both),len(both)), set_labels=(f\"l1\\n{l1}\",f\"l2\\n{l2}\"))\n",
    "v2.get_label_by_id(\"10\").set_text(f\"l1_butnotl2\\n{difference(l1,l2,both)[0]}\")\n",
    "v2.get_label_by_id(\"01\").set_text(f\"l2_butnotl1\\n{difference(l1,l2,both)[1]}\")\n",
    "v2.get_label_by_id(\"11\").set_text(f\"l1 & l2\\n{intersection(l1,l2)}\")\n",
    "\n",
    "venn2_circles(subsets=(len(l1)-len(both),len(l2)-len(both),len(both)))\n",
    "plt.title(f\"l1orl2 => {union(l1,l2)}\")\n",
    "plt.show()"
   ]
  },
  {
   "cell_type": "code",
   "execution_count": 14,
   "id": "bd8e7ea9-aede-41bb-ba59-62cc5701cc47",
   "metadata": {},
   "outputs": [
    {
     "name": "stdout",
     "output_type": "stream",
     "text": [
      "15\n"
     ]
    }
   ],
   "source": [
    "#17\n",
    "f_name=\"number.txt\"\n",
    "num=[1,2,3,4,5]\n",
    "\n",
    "with open(f_name,\"w\") as file:\n",
    "    for i in range(len(num)):\n",
    "        if i==len(num)-1:\n",
    "            file.write(f\"{num[i]}\")\n",
    "        else:\n",
    "            file.write(f\"{num[i]}\\n\")\n",
    "with open(f_name,\"r\") as file:\n",
    "    summ=0\n",
    "    for i in file:\n",
    "        summ+=int(i)\n",
    "    print(summ)"
   ]
  },
  {
   "cell_type": "code",
   "execution_count": 5,
   "id": "06f51d91",
   "metadata": {},
   "outputs": [
    {
     "name": "stdout",
     "output_type": "stream",
     "text": [
      "12 is the total no. of words in the file.\n",
      "[('how', 2), ('r', 2), ('you', 2)]\n",
      "dict_keys(['hi', 'how', 'r', 'you', 'as', 'i', 'am', 'fine', 'and']) dict_values([1, 2, 2, 2, 1, 1, 1, 1, 1])\n"
     ]
    },
    {
     "data": {
      "image/png": "[encoded data removed]",
      "text/plain": [
       "<Figure size 640x480 with 1 Axes>"
      ]
     },
     "metadata": {},
     "output_type": "display_data"
    }
   ],
   "source": [
    "#18\n",
    "with open(\"words.txt\",\"r\") as file:\n",
    "    text=file.read()\n",
    "content=text.split()\n",
    "\n",
    "print(f\"{len(content)} is the total no. of words in the file.\")\n",
    "\n",
    "counts_l=Counter(content).most_common()\n",
    "print(counts_l[0:3])\n",
    "\n",
    "keys_l=Counter(content).keys()\n",
    "values_l=Counter(content).values()\n",
    "print(keys_l,values_l)\n",
    "\n",
    "plt.bar(keys_l, values_l)\n",
    "plt.show()"
   ]
  },
  {
   "cell_type": "code",
   "execution_count": 6,
   "id": "7660acaa",
   "metadata": {},
   "outputs": [
    {
     "name": "stdout",
     "output_type": "stream",
     "text": [
      "[27 14 36  7 49  5 34 48 22 29  6 40 12 40 21 24 12 22 40  9 41 43  9 15\n",
      " 26 18  9 48 30 23 40 29  2 46 17  4 30 11 44 29  4  9 26 46 18 38  4 38\n",
      " 38 14 41 15 45 18 37 43 29  5 43 17 39 43 21 34 44  6 19 22 49  2 23 39\n",
      " 48  4 11 43 10 40 41 32 40 33 36 42  3 36 32 46 29 32 25 37  6 32 40 14\n",
      " 16 38 30 30]\n",
      "\n",
      "[27, 14, 36, 7, 49, 5, 34, 48, 22, 29, 6, 40, 12, 40, 21, 24, 12, 22, 40, 9, 41, 43, 9, 15, 26, 18, 9, 48, 30, 23, 40, 29, 2, 46, 17, 4, 30, 11, 44, 29, 4, 9, 26, 46, 18, 38, 4, 38, 38, 14, 41, 15, 45, 18, 37, 43, 29, 5, 43, 17, 39, 43, 21, 34, 44, 6, 19, 22, 49, 2, 23, 39, 48, 4, 11, 43, 10, 40, 41, 32, 40, 33, 36, 42, 3, 36, 32, 46, 29, 32, 25, 37, 6, 32, 40, 14, 16, 38, 30, 30]\n",
      "27.06\n"
     ]
    },
    {
     "data": {
      "image/png": "[encoded data removed]",
      "text/plain": [
       "<Figure size 640x480 with 1 Axes>"
      ]
     },
     "metadata": {},
     "output_type": "display_data"
    }
   ],
   "source": [
    "#19\n",
    "rand=np.random.randint(2,50,size=100)\n",
    "print(rand)\n",
    "print(\"\")\n",
    "\n",
    "with open(\"nums.txt\",\"w\") as file:\n",
    "    for i in range(len(rand)):\n",
    "        if i==len(rand)-1:\n",
    "            file.write(f\"{str(rand[i])}\")\n",
    "        else:\n",
    "            file.write(f\"{str(rand[i])}\\n\")\n",
    "\n",
    "with open(\"nums.txt\",\"r\") as file:\n",
    "    no=file.read()\n",
    "    num_l=[int(i) for i in no.split()]\n",
    "    print(num_l)\n",
    "    print(np.mean(num_l))\n",
    "    num_l1=Counter(num_l)\n",
    "    plt.bar(num_l1.keys(),num_l1.values())\n",
    "    plt.show()"
   ]
  },
  {
   "cell_type": "code",
   "execution_count": 21,
   "id": "60dd01d3",
   "metadata": {},
   "outputs": [
    {
     "name": "stdout",
     "output_type": "stream",
     "text": [
      "342\n"
     ]
    }
   ],
   "source": [
    "#20\n",
    "# Titanic CSV file is there there in there in the same folder as that of this jupyter notebook file\n",
    "df1=pd.read_csv(\"Titanic-Dataset.csv\")\n",
    "summ=np.sum(df1[\"Survived\"])\n",
    "print(summ)"
   ]
  },
  {
   "cell_type": "code",
   "execution_count": 22,
   "id": "11b27536",
   "metadata": {},
   "outputs": [
    {
     "name": "stdout",
     "output_type": "stream",
     "text": [
      "[ 3 31 16 48 20 49 40  6 43 19 22 25 32 41 38  1 38 46 34 21]\n",
      "Mean: 28.65\n",
      "Median: 20.5\n",
      "Mode: [38]\n",
      "Standard deviation: 14.450865026011419\n"
     ]
    },
    {
     "data": {
      "image/png": "[encoded data removed]",
      "text/plain": [
       "<Figure size 640x480 with 1 Axes>"
      ]
     },
     "metadata": {},
     "output_type": "display_data"
    }
   ],
   "source": [
    "#21\n",
    "arr3=np.array(np.random.randint(1,50,size=20))\n",
    "print(arr3)\n",
    "\n",
    "def fun_mode(arr3):\n",
    "    #this method of calculating the mode is via counting the number of occurrences of each element and comparing...\n",
    "    uniques_arr3=np.unique(arr3)\n",
    "    count=1\n",
    "    mode=[]\n",
    "    for i in range(len(uniques_arr3)):\n",
    "        occurences=np.count_nonzero(arr3==uniques_arr3[i])\n",
    "        if occurences>count:\n",
    "            count=occurences\n",
    "            mode=[uniques_arr3[i]]\n",
    "        elif occurences==count:\n",
    "            mode+=[uniques_arr3[i]]\n",
    "    return mode\n",
    "\n",
    "summ_arr3,length_arr3=sum_and_length(arr3)\n",
    "mean_arr3=fun_mean(arr3,summ_arr3,length_arr3)\n",
    "med_arr3=fun_med(arr3,length_arr3)\n",
    "var_arr3=fun_var(arr3,mean_arr3,length_arr3)\n",
    "mode_arr3=fun_mode(arr3)\n",
    "std_arr3=var_arr3**(0.5)\n",
    "\n",
    "print(\"Mean:\",mean_arr3)\n",
    "print(\"Median:\",med_arr3)\n",
    "print(\"Mode:\",mode_arr3)\n",
    "print(\"Standard deviation:\",std_arr3)\n",
    "\n",
    "plt.boxplot(arr3, vert=True, patch_artist=True, boxprops=dict(facecolor=\"skyblue\"))\n",
    "plt.show()"
   ]
  },
  {
   "cell_type": "code",
   "execution_count": 23,
   "id": "6173854d",
   "metadata": {},
   "outputs": [
    {
     "data": {
      "image/png": "[encoded data removed]",
      "text/plain": [
       "<Figure size 640x480 with 1 Axes>"
      ]
     },
     "metadata": {},
     "output_type": "display_data"
    }
   ],
   "source": [
    "#22\n",
    "random_arr=np.array(np.random.randint(2,50,size=10))\n",
    "normalized_arr=(random_arr-min(random_arr))/(max(random_arr)-min(random_arr))\n",
    "normalized_arr\n",
    "plt.plot(random_arr,normalized_arr)\n",
    "plt.show()"
   ]
  },
  {
   "cell_type": "code",
   "execution_count": 24,
   "id": "60640aa1",
   "metadata": {},
   "outputs": [
    {
     "name": "stdin",
     "output_type": "stream",
     "text": [
      " 56\n"
     ]
    },
    {
     "name": "stdout",
     "output_type": "stream",
     "text": [
      "Even\n"
     ]
    }
   ],
   "source": [
    "#23\n",
    "num=int(input())\n",
    "if num%2==0:\n",
    "    print(\"Even\")\n",
    "else:\n",
    "    print(\"Odd\")\n"
   ]
  },
  {
   "cell_type": "code",
   "execution_count": 77,
   "id": "101b6c5d",
   "metadata": {},
   "outputs": [
    {
     "name": "stdin",
     "output_type": "stream",
     "text": [
      "Enter number between 1 and 100: 74\n"
     ]
    },
    {
     "name": "stdout",
     "output_type": "stream",
     "text": [
      "C\n"
     ]
    }
   ],
   "source": [
    "#24\n",
    "num1=int(input(\"Enter number between 1 and 100:\"))\n",
    "if 100>=num1>=91:\n",
    "    print(\"A\")\n",
    "elif 90>=num1>=81:\n",
    "    print(\"B\")\n",
    "elif 80>=num1>=71:\n",
    "    print(\"C\")\n",
    "else:\n",
    "    print(\"D\")"
   ]
  },
  {
   "cell_type": "code",
   "execution_count": 79,
   "id": "dbd882fc",
   "metadata": {},
   "outputs": [
    {
     "name": "stdin",
     "output_type": "stream",
     "text": [
      "Enter a year: 1600\n"
     ]
    },
    {
     "name": "stdout",
     "output_type": "stream",
     "text": [
      "1600 is a leap year.\n"
     ]
    }
   ],
   "source": [
    "#25\n",
    "year = int(input(\"Enter a year:\"))\n",
    "if (year%4== 0 and year%100!=0) or (year%400==0):\n",
    "    print(f\"{year} is a leap year.\")\n",
    "else:\n",
    "    print(f\"{year} is not a leap year.\")"
   ]
  }
 ],
 "metadata": {
  "kernelspec": {
   "display_name": "Python 3 (ipykernel)",
   "language": "python",
   "name": "python3"
  },
  "language_info": {
   "codemirror_mode": {
    "name": "ipython",
    "version": 3
   },
   "file_extension": ".py",
   "mimetype": "text/x-python",
   "name": "python",
   "nbconvert_exporter": "python",
   "pygments_lexer": "ipython3",
   "version": "3.12.3"
  }
 },
 "nbformat": 4,
 "nbformat_minor": 5
}
